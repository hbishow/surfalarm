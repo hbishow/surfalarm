{
 "cells": [
  {
   "cell_type": "code",
   "execution_count": 1,
   "id": "ea11941b",
   "metadata": {},
   "outputs": [],
   "source": [
    "import requests\n",
    "from bs4 import BeautifulSoup\n",
    "import pandas as pd\n",
    "import numpy as np"
   ]
  },
  {
   "cell_type": "code",
   "execution_count": 2,
   "id": "6011dbdb",
   "metadata": {},
   "outputs": [],
   "source": [
    "spots_france = pd.read_csv(\"france_spots.csv\")"
   ]
  },
  {
   "cell_type": "markdown",
   "id": "e2be4da4",
   "metadata": {},
   "source": [
    "GETTING ALL SURF Regions and their URL"
   ]
  },
  {
   "cell_type": "code",
   "execution_count": 8,
   "id": "7ad08827",
   "metadata": {},
   "outputs": [],
   "source": [
    "def get_regions_url():\n",
    "    ### returns an HTML of the page where we can find all regions and their URL\n",
    "    \n",
    "    # get Html\n",
    "    url = \"https://magicseaweed.com/France-Surf-Forecast/2/\"\n",
    "    response = requests.get(url)\n",
    "    html = response.text\n",
    "    \n",
    "    # prepare soup\n",
    "    soup = BeautifulSoup(html, \"html.parser\")\n",
    "    regions_url_ls= []\n",
    "    regions = soup.find(\"section\", class_ =\"list-group list-group-default nomargin-bottom\")\n",
    "    for region in regions.find_all(\"a\"):\n",
    "        r_url = region[\"href\"]\n",
    "        regions_url_ls.append(\"https://magicseaweed.com/France-Surf-Forecast/2/\" + r_url[1:])\n",
    "        \n",
    "    return regions_url_ls"
   ]
  },
  {
   "cell_type": "code",
   "execution_count": 4,
   "id": "a3d1336e",
   "metadata": {},
   "outputs": [],
   "source": [
    "def get_region_name(regions_url_ls):\n",
    "    # Gets the region name from the URL\n",
    "    \n",
    "    regions_ls = []\n",
    "    for url in regions_url_ls:\n",
    "        region = url[48:-12]\n",
    "        regions_ls.append(region)\n",
    "    return regions_ls"
   ]
  },
  {
   "cell_type": "code",
   "execution_count": 9,
   "id": "8b3d7db3",
   "metadata": {
    "scrolled": true
   },
   "outputs": [],
   "source": [
    "regions_url_ls = get_regions_url()\n",
    "regions_name = get_region_name(regions_url)\n",
    "df = pd.DataFrame({'url':regions_url_ls,'regions name':regions_name})"
   ]
  },
  {
   "cell_type": "markdown",
   "id": "d8ae0736",
   "metadata": {},
   "source": [
    "Spot URLs = https://magicseaweed.com/ + Spot name url\n",
    "\n",
    "        Process aimed:\n",
    "\n",
    "1) Have a list of regions URL (✅)\n",
    "\n",
    "2) Scrape every region to get all spots url in a list\n",
    "\n",
    "3) Inspect all surf spots & if it's good output the good ones with URL + grade + date\n",
    "\n",
    "4) Add region\n",
    "\n",
    "        Current process: \n",
    "\n",
    "1) get all regions url list ✅ \n",
    "\n",
    "2) get df with all spots url, name, region name\n",
    "\n",
    "3) add all scores to each spot, and all days (massive)\n",
    "\n",
    "4) filter only the good days. "
   ]
  },
  {
   "cell_type": "code",
   "execution_count": 72,
   "id": "82a84157",
   "metadata": {},
   "outputs": [],
   "source": [
    "def get_spot_url(regions_url_ls):\n",
    "    \n",
    "    spot_url_ls = []\n",
    "    for region_url in regions_url_ls:\n",
    "        \n",
    "        # get Html\n",
    "        response = requests.get(region_url)\n",
    "        html = response.text\n",
    "        \n",
    "        # prepare soup\n",
    "        soup = BeautifulSoup(html, \"html.parser\")\n",
    "        #for spot in soup.find_all(\"a\", class_ = 'clearfix spot-list-link spot-list-link-forecast padding-sm nopadding-left nopadding-right'):\n",
    "        #    print(\"https://magicseaweed.com\" + spot[\"href\"])\n",
    "        #    spot_url_ls.append(\"https://magicseaweed.com\" + spot[\"href\"])\n",
    "        \n",
    "        ok = soup.find(\"ul\", class_=\"spot-list spot-list-default nomargin-bottom list-unstyled msw-js-spot-list-container\")\n",
    "        for link in ok.find_all('a', class_ = \"clearfix spot-list-link spot-list-link-forecast padding-sm nopadding-left nopadding-right\"):\n",
    "            print(link)\n",
    "        \n",
    "        #for link in soup.find_all(class_ = \"spot-list spot-list-default nomargin-bottom list-unstyled msw-js-spot-list-container\"):\n",
    "        #   print(link)\n",
    "            \n",
    "            #spot_url = spot.find(\"a\")[\"href\"]\n",
    "            #spot_url_ls.append(\"https://magicseaweed.com\" + spot_url)\n",
    "        \n",
    "    return spot_url_ls\n",
    "            "
   ]
  },
  {
   "cell_type": "code",
   "execution_count": 73,
   "id": "ebfd3441",
   "metadata": {},
   "outputs": [
    {
     "name": "stdout",
     "output_type": "stream",
     "text": [
      "<ul class=\"spot-list spot-list-default nomargin-bottom list-unstyled msw-js-spot-list-container\"> <li class=\"spot-list-skeleton msw-js-spot-list-skeleton\"></li> <li class=\"spot-list-skeleton msw-js-spot-list-skeleton\"></li> <li class=\"spot-list-skeleton msw-js-spot-list-skeleton\"></li> <li class=\"spot-list-skeleton msw-js-spot-list-skeleton\"></li> <li class=\"spot-list-skeleton msw-js-spot-list-skeleton\"></li> <li class=\"spot-list-skeleton msw-js-spot-list-skeleton\"></li> </ul>\n",
      "<ul class=\"spot-list spot-list-default nomargin-bottom list-unstyled msw-js-spot-list-container\"> <li class=\"spot-list-skeleton msw-js-spot-list-skeleton\"></li> <li class=\"spot-list-skeleton msw-js-spot-list-skeleton\"></li> <li class=\"spot-list-skeleton msw-js-spot-list-skeleton\"></li> <li class=\"spot-list-skeleton msw-js-spot-list-skeleton\"></li> <li class=\"spot-list-skeleton msw-js-spot-list-skeleton\"></li> <li class=\"spot-list-skeleton msw-js-spot-list-skeleton\"></li> </ul>\n",
      "<ul class=\"spot-list spot-list-default nomargin-bottom list-unstyled msw-js-spot-list-container\"> <li class=\"spot-list-skeleton msw-js-spot-list-skeleton\"></li> <li class=\"spot-list-skeleton msw-js-spot-list-skeleton\"></li> <li class=\"spot-list-skeleton msw-js-spot-list-skeleton\"></li> <li class=\"spot-list-skeleton msw-js-spot-list-skeleton\"></li> <li class=\"spot-list-skeleton msw-js-spot-list-skeleton\"></li> <li class=\"spot-list-skeleton msw-js-spot-list-skeleton\"></li> </ul>\n",
      "<ul class=\"spot-list spot-list-default nomargin-bottom list-unstyled msw-js-spot-list-container\"> <li class=\"spot-list-skeleton msw-js-spot-list-skeleton\"></li> <li class=\"spot-list-skeleton msw-js-spot-list-skeleton\"></li> <li class=\"spot-list-skeleton msw-js-spot-list-skeleton\"></li> <li class=\"spot-list-skeleton msw-js-spot-list-skeleton\"></li> <li class=\"spot-list-skeleton msw-js-spot-list-skeleton\"></li> <li class=\"spot-list-skeleton msw-js-spot-list-skeleton\"></li> </ul>\n",
      "<ul class=\"spot-list spot-list-default nomargin-bottom list-unstyled msw-js-spot-list-container\"> <li class=\"spot-list-skeleton msw-js-spot-list-skeleton\"></li> <li class=\"spot-list-skeleton msw-js-spot-list-skeleton\"></li> <li class=\"spot-list-skeleton msw-js-spot-list-skeleton\"></li> <li class=\"spot-list-skeleton msw-js-spot-list-skeleton\"></li> <li class=\"spot-list-skeleton msw-js-spot-list-skeleton\"></li> <li class=\"spot-list-skeleton msw-js-spot-list-skeleton\"></li> </ul>\n",
      "<ul class=\"spot-list spot-list-default nomargin-bottom list-unstyled msw-js-spot-list-container\"> <li class=\"spot-list-skeleton msw-js-spot-list-skeleton\"></li> <li class=\"spot-list-skeleton msw-js-spot-list-skeleton\"></li> <li class=\"spot-list-skeleton msw-js-spot-list-skeleton\"></li> <li class=\"spot-list-skeleton msw-js-spot-list-skeleton\"></li> <li class=\"spot-list-skeleton msw-js-spot-list-skeleton\"></li> <li class=\"spot-list-skeleton msw-js-spot-list-skeleton\"></li> </ul>\n",
      "<ul class=\"spot-list spot-list-default nomargin-bottom list-unstyled msw-js-spot-list-container\"> <li class=\"spot-list-skeleton msw-js-spot-list-skeleton\"></li> <li class=\"spot-list-skeleton msw-js-spot-list-skeleton\"></li> <li class=\"spot-list-skeleton msw-js-spot-list-skeleton\"></li> <li class=\"spot-list-skeleton msw-js-spot-list-skeleton\"></li> <li class=\"spot-list-skeleton msw-js-spot-list-skeleton\"></li> <li class=\"spot-list-skeleton msw-js-spot-list-skeleton\"></li> </ul>\n",
      "<ul class=\"spot-list spot-list-default nomargin-bottom list-unstyled msw-js-spot-list-container\"> <li class=\"spot-list-skeleton msw-js-spot-list-skeleton\"></li> <li class=\"spot-list-skeleton msw-js-spot-list-skeleton\"></li> <li class=\"spot-list-skeleton msw-js-spot-list-skeleton\"></li> <li class=\"spot-list-skeleton msw-js-spot-list-skeleton\"></li> <li class=\"spot-list-skeleton msw-js-spot-list-skeleton\"></li> <li class=\"spot-list-skeleton msw-js-spot-list-skeleton\"></li> </ul>\n",
      "<ul class=\"spot-list spot-list-default nomargin-bottom list-unstyled msw-js-spot-list-container\"> <li class=\"spot-list-skeleton msw-js-spot-list-skeleton\"></li> <li class=\"spot-list-skeleton msw-js-spot-list-skeleton\"></li> <li class=\"spot-list-skeleton msw-js-spot-list-skeleton\"></li> <li class=\"spot-list-skeleton msw-js-spot-list-skeleton\"></li> <li class=\"spot-list-skeleton msw-js-spot-list-skeleton\"></li> <li class=\"spot-list-skeleton msw-js-spot-list-skeleton\"></li> </ul>\n",
      "<ul class=\"spot-list spot-list-default nomargin-bottom list-unstyled msw-js-spot-list-container\"> <li class=\"spot-list-skeleton msw-js-spot-list-skeleton\"></li> <li class=\"spot-list-skeleton msw-js-spot-list-skeleton\"></li> <li class=\"spot-list-skeleton msw-js-spot-list-skeleton\"></li> <li class=\"spot-list-skeleton msw-js-spot-list-skeleton\"></li> <li class=\"spot-list-skeleton msw-js-spot-list-skeleton\"></li> <li class=\"spot-list-skeleton msw-js-spot-list-skeleton\"></li> </ul>\n",
      "<ul class=\"spot-list spot-list-default nomargin-bottom list-unstyled msw-js-spot-list-container\"> <li class=\"spot-list-skeleton msw-js-spot-list-skeleton\"></li> <li class=\"spot-list-skeleton msw-js-spot-list-skeleton\"></li> <li class=\"spot-list-skeleton msw-js-spot-list-skeleton\"></li> <li class=\"spot-list-skeleton msw-js-spot-list-skeleton\"></li> <li class=\"spot-list-skeleton msw-js-spot-list-skeleton\"></li> <li class=\"spot-list-skeleton msw-js-spot-list-skeleton\"></li> </ul>\n",
      "<ul class=\"spot-list spot-list-default nomargin-bottom list-unstyled msw-js-spot-list-container\"> <li class=\"spot-list-skeleton msw-js-spot-list-skeleton\"></li> <li class=\"spot-list-skeleton msw-js-spot-list-skeleton\"></li> <li class=\"spot-list-skeleton msw-js-spot-list-skeleton\"></li> <li class=\"spot-list-skeleton msw-js-spot-list-skeleton\"></li> <li class=\"spot-list-skeleton msw-js-spot-list-skeleton\"></li> <li class=\"spot-list-skeleton msw-js-spot-list-skeleton\"></li> </ul>\n",
      "<ul class=\"spot-list spot-list-default nomargin-bottom list-unstyled msw-js-spot-list-container\"> <li class=\"spot-list-skeleton msw-js-spot-list-skeleton\"></li> <li class=\"spot-list-skeleton msw-js-spot-list-skeleton\"></li> <li class=\"spot-list-skeleton msw-js-spot-list-skeleton\"></li> <li class=\"spot-list-skeleton msw-js-spot-list-skeleton\"></li> <li class=\"spot-list-skeleton msw-js-spot-list-skeleton\"></li> <li class=\"spot-list-skeleton msw-js-spot-list-skeleton\"></li> </ul>\n"
     ]
    },
    {
     "data": {
      "text/plain": [
       "[]"
      ]
     },
     "execution_count": 73,
     "metadata": {},
     "output_type": "execute_result"
    }
   ],
   "source": [
    "get_spot_url(regions_url_ls)"
   ]
  },
  {
   "cell_type": "code",
   "execution_count": null,
   "id": "83047ecd",
   "metadata": {},
   "outputs": [],
   "source": []
  }
 ],
 "metadata": {
  "kernelspec": {
   "display_name": "Python 3",
   "language": "python",
   "name": "python3"
  },
  "language_info": {
   "codemirror_mode": {
    "name": "ipython",
    "version": 3
   },
   "file_extension": ".py",
   "mimetype": "text/x-python",
   "name": "python",
   "nbconvert_exporter": "python",
   "pygments_lexer": "ipython3",
   "version": "3.9.1"
  },
  "toc": {
   "base_numbering": 1,
   "nav_menu": {},
   "number_sections": true,
   "sideBar": true,
   "skip_h1_title": false,
   "title_cell": "Table of Contents",
   "title_sidebar": "Contents",
   "toc_cell": false,
   "toc_position": {},
   "toc_section_display": true,
   "toc_window_display": false
  }
 },
 "nbformat": 4,
 "nbformat_minor": 5
}
