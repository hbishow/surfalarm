{
 "cells": [
  {
   "cell_type": "code",
   "execution_count": 1,
   "id": "c060cb4c",
   "metadata": {},
   "outputs": [],
   "source": [
    "import requests\n",
    "from bs4 import BeautifulSoup\n",
    "from datetime import date\n",
    "from datetime import datetime\n",
    "import pandas as pd"
   ]
  },
  {
   "cell_type": "markdown",
   "id": "08c8e79f",
   "metadata": {},
   "source": [
    "# Scraping *Surf Report* surf spots per region"
   ]
  },
  {
   "cell_type": "markdown",
   "id": "0a9bcec3",
   "metadata": {},
   "source": [
    "WE WANT:\n",
    " - Spot name\n",
    " - Spot Town\n",
    " - URL of the Spot"
   ]
  },
  {
   "cell_type": "markdown",
   "id": "e7b8edc5",
   "metadata": {},
   "source": [
    "GETTING THE PAGE WITH THE LIST OF SURF SPOTS IN HTML"
   ]
  },
  {
   "cell_type": "code",
   "execution_count": 2,
   "id": "90ee2743",
   "metadata": {},
   "outputs": [],
   "source": [
    "def region_spot(region):\n",
    "    url = f\"https://www.surf-report.com/meteo-surf/france/{region.lower()}\"\n",
    "    response = requests.get(url)\n",
    "    return response.text\n",
    "    "
   ]
  },
  {
   "cell_type": "markdown",
   "id": "08cf910a",
   "metadata": {},
   "source": [
    "GETTING A LIST OF SURFPOTS FROM THE ABOVE HTML VERSION\n",
    "\n",
    "Acceèder au report -> https://www.surf-report.com/meteo-surf/ + nom du spot scrapé. "
   ]
  },
  {
   "cell_type": "code",
   "execution_count": 3,
   "id": "621d3816",
   "metadata": {},
   "outputs": [],
   "source": [
    "def spots_2_search(region):\n",
    "    # Get the HTML with the previous function\n",
    "    html = region_spot(region)\n",
    "    \n",
    "    # Start the seach\n",
    "    soup = BeautifulSoup(html, \"html.parser\")\n",
    "    spots= []\n",
    "    for spot in soup.find_all(\"div\", class_ =\"card forecast list\"):\n",
    "        \n",
    "        #get the spot town\n",
    "        spot_town = spot.find(\"b\").string\n",
    "        \n",
    "        #get the spot name\n",
    "        if spot.find(\"br\"):\n",
    "            spot_name = spot.br.next_sibling\n",
    "        else:\n",
    "            spot_name = \"No spot name\"\n",
    "        \n",
    "        #get the URL\n",
    "        url_end = spot.find(\"a\")[\"href\"]\n",
    "        url = \"https://www.surf-report.com/meteo-surf\" + url_end\n",
    "        \n",
    "        spots.append([spot_name, spot_town, region, url])\n",
    "        \n",
    "    return spots"
   ]
  },
  {
   "cell_type": "markdown",
   "id": "b0dba11b",
   "metadata": {},
   "source": [
    "* THIS CODE IS TO COUNT THE NUMBER OF SURF SPOTS\n",
    "\n",
    "def fix(region):\n",
    "    # Get the HTML with the previous function\n",
    "    html = region_spot(region)\n",
    "    \n",
    "    # Start the seach\n",
    "    soup = BeautifulSoup(html, \"html.parser\")\n",
    "    spot_count = len(soup.find_all(\"div\", class_ =\"card forecast list\"))\n",
    "        \n",
    "    return spot_count\n",
    "    \n",
    "total = 0\n",
    "for region in all_regions:\n",
    "    total += fix(region)\n",
    "total"
   ]
  },
  {
   "cell_type": "markdown",
   "id": "253b38e7",
   "metadata": {},
   "source": [
    "# SCRAPING THE CONDITIONS FOR EACH SPOT"
   ]
  },
  {
   "cell_type": "markdown",
   "id": "a560b90e",
   "metadata": {},
   "source": [
    "FUNCTION \"Spot Data\" returns a list [URL, stars,  J+x] if there is more than 10 stars on one day"
   ]
  },
  {
   "cell_type": "code",
   "execution_count": 4,
   "id": "22b26ec2",
   "metadata": {},
   "outputs": [],
   "source": [
    "def spot_to_html(spot_url):\n",
    "    response = requests.get(spot_url)\n",
    "    return response.text"
   ]
  },
  {
   "cell_type": "code",
   "execution_count": 5,
   "id": "53379efd",
   "metadata": {},
   "outputs": [],
   "source": [
    "def spot_data(spot_url):\n",
    "    ### This function will look if a spot has more than 10 stars in 1 day in the next 3 days\n",
    "    \n",
    "    # Getting the HTML of the spot with previous function\n",
    "    spot_html = spot_to_html(spot_url)\n",
    "    soup = BeautifulSoup(spot_html, \"html.parser\")\n",
    "    \n",
    "    today = date.today()\n",
    "    \n",
    "    for day in soup.find_all(\"div\", class_=\"forecast-tab\"):\n",
    "        \n",
    "        # Count the number of stars for a day\n",
    "        stars = len(day.find_all(\"i\", class_=\"fa fa-star\"))\n",
    "        \n",
    "        # Look at the forecast of the next 3 days only\n",
    "        if stars > 10:\n",
    "            wave = day.find(\"b\").string\n",
    "            day_date_string = day.find(\"b\").string\n",
    "            day_date = douille_datetime(day_date_string)\n",
    "            jour = (day_date - today).days\n",
    "            \n",
    "            # for today's waves:\n",
    "            #if jour < 1:\n",
    "            \n",
    "            # for the next 3 days only:\n",
    "            if jour > 0 and jour < 4:\n",
    "                \n",
    "                return [spot_url, stars, day_date_string]\n",
    "            pass\n",
    "        pass\n",
    "    pass"
   ]
  },
  {
   "cell_type": "markdown",
   "id": "f4028afd",
   "metadata": {},
   "source": [
    "### DateTime temporary fix"
   ]
  },
  {
   "cell_type": "code",
   "execution_count": null,
   "id": "21d74071",
   "metadata": {},
   "outputs": [],
   "source": [
    "def douille_datetime(day):\n",
    "    output = \"2021-\"\n",
    "    \n",
    "    # deleting the alphabetical version of day\n",
    "    \n",
    "    day = day[5:]\n",
    "    for char in day:\n",
    "        if not char.isnumeric():\n",
    "            day = day[1:]\n",
    "        else :\n",
    "            break\n",
    "    \n",
    "    # changing the month to a number\n",
    "    month = day[2:]\n",
    "    for char in month:\n",
    "        if not char.isalpha():\n",
    "            month = month[1:]\n",
    "        else :\n",
    "            break\n",
    "            \n",
    "    if month == \"Janvier\":\n",
    "        month = \"01\"\n",
    "    elif month== \"Fevrier\":\n",
    "        month = \"02\"\n",
    "    elif month== \"Mars\":\n",
    "        month = \"03\"\n",
    "    elif month== \"Avril\":\n",
    "        month = \"04\"\n",
    "    elif month == \"Mai\":\n",
    "        month = \"05\"\n",
    "    elif month== \"Juin\":\n",
    "        month = \"06\"\n",
    "    elif month== \"Juillet\":\n",
    "        month = \"07\"\n",
    "    elif month== \"Aout\":\n",
    "        month = \"08\"\n",
    "    elif month== \"Septemre\":\n",
    "        month = \"09\"\n",
    "    elif month== \"Octobre\":\n",
    "        month = \"10\"\n",
    "    elif month== \"Novembre\":\n",
    "        month = \"11\"\n",
    "    elif month== \"Décembre\":\n",
    "        month = \"12\"\n",
    "\n",
    "    # 0 padding the day of the date\n",
    "    day = ''.join(ch for ch in day if ch.isnumeric())\n",
    "    if len(day) == 1:\n",
    "        day = \"0\" + day\n",
    "    pass\n",
    "\n",
    "    output = output + month + \"-\" +  day\n",
    "    \n",
    "    #return output\n",
    "    return date.fromisoformat(output)"
   ]
  },
  {
   "cell_type": "code",
   "execution_count": 7,
   "id": "9af1e7e4",
   "metadata": {
    "scrolled": true
   },
   "outputs": [
    {
     "data": {
      "text/plain": [
       "datetime.date(2021, 11, 2)"
      ]
     },
     "execution_count": 7,
     "metadata": {},
     "output_type": "execute_result"
    }
   ],
   "source": [
    "douille_datetime(\"Lundi 2 Novembre\")"
   ]
  },
  {
   "cell_type": "markdown",
   "id": "d6875b0e",
   "metadata": {},
   "source": [
    "# Agregating report data & spot data"
   ]
  },
  {
   "cell_type": "code",
   "execution_count": 8,
   "id": "44852b06",
   "metadata": {},
   "outputs": [],
   "source": [
    "def region_spots_data(region_liste):\n",
    "    \n",
    "    ### Gives all the *spots* AND the soon-exceptional spots for a given list of region(s)\n",
    "    ### Input must be a list -> ['Bretagne'] or ['bretagne', 'nord']\n",
    "    \n",
    "    best_liste = []\n",
    "    spot_liste = []\n",
    "    \n",
    "    for region in region_liste:\n",
    "        region_spot_liste = spots_2_search(region)\n",
    "        \n",
    "        for spot in region_spot_liste:\n",
    "            spot_liste.append(spot)\n",
    "            good_spot = spot_data(spot[3])\n",
    "            if good_spot:\n",
    "                best_liste.append(good_spot)\n",
    "    \n",
    "    spots_df = pd.DataFrame(spot_liste, columns=['spot', 'ville', 'region', 'url'])\n",
    "    best_spots_df = pd.DataFrame(best_liste, columns=['url', 'stars', 'date'])\n",
    "    \n",
    "    \n",
    "    return spots_df, best_spots_df"
   ]
  },
  {
   "cell_type": "code",
   "execution_count": null,
   "id": "fc9bfdda",
   "metadata": {},
   "outputs": [],
   "source": [
    "all_regions = [\"Nord\", \"Manche\", \"Bretagne\", \"loire-atlantique\",\n",
    "               \"Vendee\", \"charente-maritime\", \"Gironde\", \"Landes\",\n",
    "               \"pays-basque\", \"golfe-lion\", \"cote-dazur\", \"corse\"]\n",
    "\n",
    "france_spot, france_best = region_spots_data(all_regions)\n",
    "\n",
    "df = france_best.join(france_spot.set_index('url'), on='url')"
   ]
  },
  {
   "cell_type": "markdown",
   "id": "d6088692",
   "metadata": {},
   "source": [
    "# Export CSV\n",
    "**JUST RESTART & RUN ALL**"
   ]
  },
  {
   "cell_type": "code",
   "execution_count": null,
   "id": "234a9723",
   "metadata": {},
   "outputs": [],
   "source": [
    "today = date.today()\n",
    "df.to_csv(f'{str(today)}.csv', index=False, sep=\",\")"
   ]
  },
  {
   "cell_type": "code",
   "execution_count": null,
   "id": "76fbf794",
   "metadata": {},
   "outputs": [],
   "source": [
    "#france_spot.to_csv('france_spots.csv', index=False, sep=\",\")"
   ]
  }
 ],
 "metadata": {
  "kernelspec": {
   "display_name": "Python 3",
   "language": "python",
   "name": "python3"
  },
  "language_info": {
   "codemirror_mode": {
    "name": "ipython",
    "version": 3
   },
   "file_extension": ".py",
   "mimetype": "text/x-python",
   "name": "python",
   "nbconvert_exporter": "python",
   "pygments_lexer": "ipython3",
   "version": "3.9.1"
  },
  "toc": {
   "base_numbering": 1,
   "nav_menu": {},
   "number_sections": true,
   "sideBar": true,
   "skip_h1_title": false,
   "title_cell": "Table of Contents",
   "title_sidebar": "Contents",
   "toc_cell": false,
   "toc_position": {
    "height": "calc(100% - 180px)",
    "left": "10px",
    "top": "150px",
    "width": "320px"
   },
   "toc_section_display": true,
   "toc_window_display": true
  }
 },
 "nbformat": 4,
 "nbformat_minor": 5
}
