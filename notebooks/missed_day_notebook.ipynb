{
 "cells": [
  {
   "cell_type": "code",
   "execution_count": 1,
   "id": "9bd15a91",
   "metadata": {},
   "outputs": [],
   "source": [
    "import pandas as pd\n",
    "from datetime import datetime, date, timedelta"
   ]
  },
  {
   "cell_type": "markdown",
   "id": "d731ffc1",
   "metadata": {},
   "source": [
    "**IMPORTING THE DATA**"
   ]
  },
  {
   "cell_type": "code",
   "execution_count": 14,
   "id": "14a791dd",
   "metadata": {},
   "outputs": [],
   "source": [
    "today = date.today()\n",
    "yest = today - timedelta(days=1)\n",
    "day_before = yest - timedelta(days=1)\n",
    "tmrw = date.today() + timedelta(days=1)\n",
    "\n",
    "aujd = pd.read_csv(f'{str(today)}.csv')\n",
    "#hier = pd.read_csv(f'{str(yest)}.csv')\n",
    "jour_avant = pd.read_csv(f'{str(day_before)}.csv')"
   ]
  },
  {
   "cell_type": "code",
   "execution_count": 5,
   "id": "7bfb3ad9",
   "metadata": {},
   "outputs": [
    {
     "data": {
      "text/plain": [
       "('2021-10-19', '2021-10-21')"
      ]
     },
     "execution_count": 5,
     "metadata": {},
     "output_type": "execute_result"
    }
   ],
   "source": [
    "str(day_before), str(today)"
   ]
  },
  {
   "cell_type": "markdown",
   "id": "5e5eaafe",
   "metadata": {
    "heading_collapsed": true
   },
   "source": [
    "# **Getting tomorrow's date to \"Jeudi 21 Octobre\"**"
   ]
  },
  {
   "cell_type": "code",
   "execution_count": 6,
   "id": "3088ed35",
   "metadata": {
    "hidden": true
   },
   "outputs": [],
   "source": [
    "def only_tomorrow(day):\n",
    "    ### input is datetime.date(2021, 10, 9)\n",
    "    ### we want to look at today's report, and the 2 previous days\n",
    "    ### outputs a string of the day where 3 reports could overlap\n",
    "    \n",
    "    # getting today's day name\n",
    "    day_name = day.strftime(\"%A\")\n",
    "    if day_name == 'Monday':\n",
    "        day_name = 'Lundi'\n",
    "    elif day_name == 'Tuesday':\n",
    "        day_name = 'Mardi'\n",
    "    elif day_name == 'Wednesday':\n",
    "        day_name = 'Mercredi'\n",
    "    elif day_name == 'Thursday':\n",
    "        day_name = 'Jeudi'\n",
    "    elif day_name == 'Friday':\n",
    "        day_name = 'Vendredi'\n",
    "    elif day_name == 'Saturday':\n",
    "        day_name = 'Samedi'\n",
    "    elif day_name == 'Sunday':\n",
    "        day_name = 'Dimanche'\n",
    "    \n",
    "    # deleting the year\n",
    "    day_string = str(day)[5:]\n",
    "    \n",
    "    #  reoving the 0 padding of the day\n",
    "    day_num = day_string[3:]\n",
    "    if day_num[0] == '0':\n",
    "        day_num = day_num[1:]\n",
    "    pass\n",
    "    \n",
    "    # changing the month to a string\n",
    "    month = day_string[:2]\n",
    "            \n",
    "    if month == \"01\":\n",
    "        month = \"Janvier\"\n",
    "    elif month== \"02\":\n",
    "        month = \"Fevrier\"\n",
    "    elif month== \"03\":\n",
    "        month = \"Mars\"\n",
    "    elif month== \"04\":\n",
    "        month = \"Avril\"\n",
    "    elif month == \"05\":\n",
    "        month = \"Mai\"\n",
    "    elif month== \"06\":\n",
    "        month = \"Juin\"\n",
    "    elif month== \"07\":\n",
    "        month = \"Juillet\"\n",
    "    elif month== \"08\":\n",
    "        month = \"Aout\"\n",
    "    elif month== \"09\":\n",
    "        month = \"Septembre\"\n",
    "    elif month== \"10\":\n",
    "        month = \"Octobre\"\n",
    "    elif month== \"11\":\n",
    "        month = \"Novembre\"\n",
    "    elif month== \"12\":\n",
    "        month = \"Decembre\"\n",
    "\n",
    "    # joining month and num_day\n",
    "    day_name = day_name + ' ' + day_num  + ' ' + month\n",
    "    \n",
    "    return day_name"
   ]
  },
  {
   "cell_type": "code",
   "execution_count": 7,
   "id": "f60cf426",
   "metadata": {
    "hidden": true
   },
   "outputs": [
    {
     "data": {
      "text/plain": [
       "'Jeudi 21 Octobre'"
      ]
     },
     "execution_count": 7,
     "metadata": {},
     "output_type": "execute_result"
    }
   ],
   "source": [
    "only_tomorrow(tmrw)"
   ]
  },
  {
   "cell_type": "markdown",
   "id": "b3c84d07",
   "metadata": {},
   "source": [
    "# url isin method"
   ]
  },
  {
   "cell_type": "code",
   "execution_count": 15,
   "id": "8a1eb40c",
   "metadata": {
    "scrolled": true
   },
   "outputs": [],
   "source": [
    "one = aujd[aujd.date == only_tomorrow(tmrw)]\n",
    "#two = hier[hier.date == only_tomorrow(tmrw)]\n",
    "three = jour_avant[jour_avant.date == only_tomorrow(tmrw)]"
   ]
  },
  {
   "cell_type": "code",
   "execution_count": 18,
   "id": "b5f3ecfe",
   "metadata": {},
   "outputs": [],
   "source": [
    "#yo = one[one['url'].isin(two['url'])]\n",
    "final = yo[yo['url'].isin(three['url'])]"
   ]
  },
  {
   "cell_type": "code",
   "execution_count": 34,
   "id": "5d3584fb",
   "metadata": {},
   "outputs": [],
   "source": [
    "yo = one[one['url'].isin(three['url'])]"
   ]
  },
  {
   "cell_type": "code",
   "execution_count": 57,
   "id": "4953df84",
   "metadata": {},
   "outputs": [],
   "source": [
    "yo_one = jour_avant[jour_avant.date == only_tomorrow(today)]"
   ]
  },
  {
   "cell_type": "code",
   "execution_count": 59,
   "id": "a5ac3e6e",
   "metadata": {},
   "outputs": [],
   "source": [
    "report_hier = yo_one.append(yo, ignore_index = True)"
   ]
  },
  {
   "cell_type": "code",
   "execution_count": 60,
   "id": "09f74bf7",
   "metadata": {},
   "outputs": [
    {
     "data": {
      "text/plain": [
       "(48, 6)"
      ]
     },
     "execution_count": 60,
     "metadata": {},
     "output_type": "execute_result"
    }
   ],
   "source": [
    "report_hier.shape"
   ]
  },
  {
   "cell_type": "code",
   "execution_count": 65,
   "id": "8f336607",
   "metadata": {},
   "outputs": [
    {
     "ename": "AttributeError",
     "evalue": "'DataFrame' object has no attribute 'unique_values'",
     "output_type": "error",
     "traceback": [
      "\u001b[0;31m---------------------------------------------------------------------------\u001b[0m",
      "\u001b[0;31mAttributeError\u001b[0m                            Traceback (most recent call last)",
      "\u001b[0;32m<ipython-input-65-a92200e9fc6e>\u001b[0m in \u001b[0;36m<module>\u001b[0;34m\u001b[0m\n\u001b[0;32m----> 1\u001b[0;31m \u001b[0maujd\u001b[0m\u001b[0;34m[\u001b[0m\u001b[0;34m[\u001b[0m\u001b[0;34m'date'\u001b[0m\u001b[0;34m]\u001b[0m\u001b[0;34m]\u001b[0m\u001b[0;34m.\u001b[0m\u001b[0munique_values\u001b[0m\u001b[0;34m\u001b[0m\u001b[0;34m\u001b[0m\u001b[0m\n\u001b[0m",
      "\u001b[0;32m~/.pyenv/versions/3.9.1/envs/lewagon/lib/python3.9/site-packages/pandas/core/generic.py\u001b[0m in \u001b[0;36m__getattr__\u001b[0;34m(self, name)\u001b[0m\n\u001b[1;32m   5463\u001b[0m             \u001b[0;32mif\u001b[0m \u001b[0mself\u001b[0m\u001b[0;34m.\u001b[0m\u001b[0m_info_axis\u001b[0m\u001b[0;34m.\u001b[0m\u001b[0m_can_hold_identifiers_and_holds_name\u001b[0m\u001b[0;34m(\u001b[0m\u001b[0mname\u001b[0m\u001b[0;34m)\u001b[0m\u001b[0;34m:\u001b[0m\u001b[0;34m\u001b[0m\u001b[0;34m\u001b[0m\u001b[0m\n\u001b[1;32m   5464\u001b[0m                 \u001b[0;32mreturn\u001b[0m \u001b[0mself\u001b[0m\u001b[0;34m[\u001b[0m\u001b[0mname\u001b[0m\u001b[0;34m]\u001b[0m\u001b[0;34m\u001b[0m\u001b[0;34m\u001b[0m\u001b[0m\n\u001b[0;32m-> 5465\u001b[0;31m             \u001b[0;32mreturn\u001b[0m \u001b[0mobject\u001b[0m\u001b[0;34m.\u001b[0m\u001b[0m__getattribute__\u001b[0m\u001b[0;34m(\u001b[0m\u001b[0mself\u001b[0m\u001b[0;34m,\u001b[0m \u001b[0mname\u001b[0m\u001b[0;34m)\u001b[0m\u001b[0;34m\u001b[0m\u001b[0;34m\u001b[0m\u001b[0m\n\u001b[0m\u001b[1;32m   5466\u001b[0m \u001b[0;34m\u001b[0m\u001b[0m\n\u001b[1;32m   5467\u001b[0m     \u001b[0;32mdef\u001b[0m \u001b[0m__setattr__\u001b[0m\u001b[0;34m(\u001b[0m\u001b[0mself\u001b[0m\u001b[0;34m,\u001b[0m \u001b[0mname\u001b[0m\u001b[0;34m:\u001b[0m \u001b[0mstr\u001b[0m\u001b[0;34m,\u001b[0m \u001b[0mvalue\u001b[0m\u001b[0;34m)\u001b[0m \u001b[0;34m->\u001b[0m \u001b[0;32mNone\u001b[0m\u001b[0;34m:\u001b[0m\u001b[0;34m\u001b[0m\u001b[0;34m\u001b[0m\u001b[0m\n",
      "\u001b[0;31mAttributeError\u001b[0m: 'DataFrame' object has no attribute 'unique_values'"
     ]
    }
   ],
   "source": [
    "aujd[['date']].unique_values"
   ]
  },
  {
   "cell_type": "markdown",
   "id": "7b32e82d",
   "metadata": {},
   "source": [
    "# Groupby Url and date method"
   ]
  },
  {
   "cell_type": "code",
   "execution_count": 43,
   "id": "cc76c4f2",
   "metadata": {},
   "outputs": [],
   "source": [
    "merged = aujd.merge(hier[['url', 'stars', 'date']], \n",
    "                    'inner', \n",
    "                    ['url', 'date']).merge(jour_avant[['url', 'stars', 'date']],\n",
    "                                           'inner',\n",
    "                                           ['url', 'date'])"
   ]
  },
  {
   "cell_type": "code",
   "execution_count": null,
   "id": "195c6321",
   "metadata": {},
   "outputs": [],
   "source": [
    "merged = aujd.merge(jour_avant[['url', 'stars', 'date']], \n",
    "                    'inner', \n",
    "                    ['url', 'date'])"
   ]
  }
 ],
 "metadata": {
  "kernelspec": {
   "display_name": "Python 3",
   "language": "python",
   "name": "python3"
  },
  "language_info": {
   "codemirror_mode": {
    "name": "ipython",
    "version": 3
   },
   "file_extension": ".py",
   "mimetype": "text/x-python",
   "name": "python",
   "nbconvert_exporter": "python",
   "pygments_lexer": "ipython3",
   "version": "3.9.1"
  },
  "toc": {
   "base_numbering": 1,
   "nav_menu": {},
   "number_sections": true,
   "sideBar": true,
   "skip_h1_title": false,
   "title_cell": "Table of Contents",
   "title_sidebar": "Contents",
   "toc_cell": false,
   "toc_position": {},
   "toc_section_display": true,
   "toc_window_display": false
  }
 },
 "nbformat": 4,
 "nbformat_minor": 5
}
